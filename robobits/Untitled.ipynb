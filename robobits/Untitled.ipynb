{
 "cells": [
  {
   "cell_type": "code",
   "execution_count": 12,
   "id": "45ffadb3",
   "metadata": {},
   "outputs": [
    {
     "data": {
      "text/plain": [
       "'주문을 찾지 못했습니다.'"
      ]
     },
     "execution_count": 12,
     "metadata": {},
     "output_type": "execute_result"
    }
   ],
   "source": [
    "import json\n",
    "\n",
    "str = {'error': {'message': '주문을 찾지 못했습니다.', 'name': 'order_not_found'}}\n",
    "error = \"none\"\n",
    "try:\n",
    "    error = str['error']['message']\n",
    "except:\n",
    "    error = \"none\"\n"
   ]
  },
  {
   "cell_type": "code",
   "execution_count": 16,
   "id": "36fba079",
   "metadata": {},
   "outputs": [
    {
     "data": {
      "text/plain": [
       "'XRP'"
      ]
     },
     "execution_count": 16,
     "metadata": {},
     "output_type": "execute_result"
    }
   ],
   "source": [
    "coin_name = 'KRW-XRP'\n",
    "coin_name.split('-')[1]"
   ]
  },
  {
   "cell_type": "code",
   "execution_count": 21,
   "id": "503ac85f",
   "metadata": {},
   "outputs": [
    {
     "name": "stdout",
     "output_type": "stream",
     "text": [
      "5.0 1540\n"
     ]
    }
   ],
   "source": [
    "ddd = [{'currency': 'KRW',\n",
    "   'balance': '80450.1125',\n",
    "   'locked': '12006.0',\n",
    "   'avg_buy_price': '0',\n",
    "   'avg_buy_price_modified': True,\n",
    "   'unit_currency': 'KRW'},\n",
    "  {'currency': 'XRP',\n",
    "   'balance': '5.0',\n",
    "   'locked': '0.0',\n",
    "   'avg_buy_price': '1540',\n",
    "   'avg_buy_price_modified': False,\n",
    "   'unit_currency': 'KRW'},\n",
    "   {'currency': 'BTC',\n",
    "   'balance': '5.0',\n",
    "   'locked': '0.0',\n",
    "   'avg_buy_price': '1540',\n",
    "   'avg_buy_price_modified': False,\n",
    "   'unit_currency': 'KRW'}\n",
    "      ]\n",
    "for dd in ddd:\n",
    "    if dd['currency'] == 'XRP':\n",
    "        print(dd['balance'], dd['avg_buy_price'])"
   ]
  },
  {
   "cell_type": "code",
   "execution_count": null,
   "id": "24a3d282",
   "metadata": {},
   "outputs": [],
   "source": []
  }
 ],
 "metadata": {
  "kernelspec": {
   "display_name": "Python 3",
   "language": "python",
   "name": "python3"
  },
  "language_info": {
   "codemirror_mode": {
    "name": "ipython",
    "version": 3
   },
   "file_extension": ".py",
   "mimetype": "text/x-python",
   "name": "python",
   "nbconvert_exporter": "python",
   "pygments_lexer": "ipython3",
   "version": "3.7.7"
  }
 },
 "nbformat": 4,
 "nbformat_minor": 5
}
