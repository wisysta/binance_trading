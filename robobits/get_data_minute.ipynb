{
 "cells": [
  {
   "cell_type": "code",
   "execution_count": 10,
   "metadata": {
    "scrolled": false
   },
   "outputs": [
    {
     "name": "stdout",
     "output_type": "stream",
     "text": [
      "2021-08-17T17:20:53, 2021-08-17T10:41:59, 2021-08-17T04:02:59, 2021-08-16T21:23:59, 2021-08-16T12:03:59, 2021-08-16T05:24:59, 2021-08-15T22:46:00, 2021-08-15T16:06:59, 2021-08-15T09:28:00, 2021-08-15T02:49:00, "
     ]
    },
    {
     "ename": "KeyboardInterrupt",
     "evalue": "",
     "output_type": "error",
     "traceback": [
      "\u001b[1;31m---------------------------------------------------------------------------\u001b[0m",
      "\u001b[1;31mKeyboardInterrupt\u001b[0m                         Traceback (most recent call last)",
      "\u001b[1;32m~\\AppData\\Local\\Temp/ipykernel_20368/811579200.py\u001b[0m in \u001b[0;36m<module>\u001b[1;34m\u001b[0m\n\u001b[0;32m     38\u001b[0m     \u001b[1;31m#사람같이 행동하기\u001b[0m\u001b[1;33m\u001b[0m\u001b[1;33m\u001b[0m\u001b[1;33m\u001b[0m\u001b[0m\n\u001b[0;32m     39\u001b[0m     \u001b[0mwait_time\u001b[0m \u001b[1;33m=\u001b[0m \u001b[0mrandom\u001b[0m\u001b[1;33m.\u001b[0m\u001b[0mchoice\u001b[0m\u001b[1;33m(\u001b[0m\u001b[1;33m[\u001b[0m\u001b[1;36m1.2\u001b[0m\u001b[1;33m,\u001b[0m \u001b[1;36m1.4\u001b[0m\u001b[1;33m,\u001b[0m \u001b[1;36m1.6\u001b[0m\u001b[1;33m,\u001b[0m \u001b[1;36m1.8\u001b[0m\u001b[1;33m]\u001b[0m\u001b[1;33m)\u001b[0m\u001b[1;33m\u001b[0m\u001b[1;33m\u001b[0m\u001b[0m\n\u001b[1;32m---> 40\u001b[1;33m     \u001b[0mtime\u001b[0m\u001b[1;33m.\u001b[0m\u001b[0msleep\u001b[0m\u001b[1;33m(\u001b[0m\u001b[0mwait_time\u001b[0m\u001b[1;33m)\u001b[0m\u001b[1;33m\u001b[0m\u001b[1;33m\u001b[0m\u001b[0m\n\u001b[0m\u001b[0;32m     41\u001b[0m     \u001b[0mprint\u001b[0m\u001b[1;33m(\u001b[0m\u001b[0mstart_time\u001b[0m\u001b[1;33m,\u001b[0m \u001b[0mend\u001b[0m\u001b[1;33m=\u001b[0m\u001b[1;34m', '\u001b[0m\u001b[1;33m)\u001b[0m\u001b[1;33m\u001b[0m\u001b[1;33m\u001b[0m\u001b[0m\n\u001b[0;32m     42\u001b[0m \u001b[1;31m#     print(i, end=', ') #progessing\u001b[0m\u001b[1;33m\u001b[0m\u001b[1;33m\u001b[0m\u001b[1;33m\u001b[0m\u001b[0m\n",
      "\u001b[1;31mKeyboardInterrupt\u001b[0m: "
     ]
    }
   ],
   "source": [
    "import pandas as pd\n",
    "import numpy as np\n",
    "import requests\n",
    "import csv\n",
    "import time\n",
    "import random\n",
    "import datetime\n",
    "import os\n",
    "import warnings\n",
    "warnings.filterwarnings(action='ignore')\n",
    "\n",
    "coin_name = \"KRW-XRP\"\n",
    "start_time = \"2021-08-18T00:00:00\" #오늘날짜\n",
    "base_url = \"https://crix-api-cdn.upbit.com/v1/crix/candles/minutes/1?code=CRIX.UPBIT.{} \\\n",
    "            &count=400&to={}.000Z\"\n",
    "cols = ['timestamp','openingPrice', 'highPrice', 'lowPrice', 'tradePrice','candleAccTradeVolume']\n",
    "df_out = pd.DataFrame() #비어있는 데이터 프레임 생성\n",
    "\n",
    "for i in range(0, 500):\n",
    "    url = base_url.format(coin_name, start_time)\n",
    "    webpage = requests.get(url)\n",
    "#     print(type(webpage))\n",
    "#     print(webpage.content)\n",
    "    df_temp = pd.read_json(webpage.content)\n",
    "#     print(df_temp.head(5))\n",
    "#     print()\n",
    "#     print()\n",
    "    \n",
    "    \n",
    "    df_temp_data = df_temp[cols]\n",
    "#     print(df_temp_data.head(5))\n",
    "\n",
    "    df_out = df_out.append(df_temp_data) #데이터 프레임에 데이터 추가\n",
    "\n",
    "    temp_date = df_temp_data.tail(1)['timestamp'].dt.strftime('%Y-%m-%dT%H:%M:%S')\n",
    "    start_time = temp_date.values[0]\n",
    "\n",
    "    #사람같이 행동하기\n",
    "    wait_time = random.choice([1.2, 1.4, 1.6, 1.8])\n",
    "    time.sleep(wait_time)\n",
    "    print(start_time, end=', ')\n",
    "#     print(i, end=', ') #progessing        \n",
    "\n",
    "df_out.reset_index()\n",
    "df_out.to_csv(\"./data/{}.csv\".format(coin_name), index=False)"
   ]
  },
  {
   "cell_type": "code",
   "execution_count": null,
   "metadata": {},
   "outputs": [],
   "source": []
  }
 ],
 "metadata": {
  "kernelspec": {
   "display_name": "Python 3 (ipykernel)",
   "language": "python",
   "name": "python3"
  },
  "language_info": {
   "codemirror_mode": {
    "name": "ipython",
    "version": 3
   },
   "file_extension": ".py",
   "mimetype": "text/x-python",
   "name": "python",
   "nbconvert_exporter": "python",
   "pygments_lexer": "ipython3",
   "version": "3.7.7"
  }
 },
 "nbformat": 4,
 "nbformat_minor": 4
}
