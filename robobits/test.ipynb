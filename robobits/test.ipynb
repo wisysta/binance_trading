{
 "cells": [
  {
   "cell_type": "code",
   "execution_count": 3,
   "id": "cb1d4704",
   "metadata": {},
   "outputs": [
    {
     "name": "stdout",
     "output_type": "stream",
     "text": [
      "*human: john 24 salesman\n"
     ]
    }
   ],
   "source": [
    "def print_human(name, age, job):\n",
    "    print('*human:', name, age, job)\n",
    "\n",
    "yourname = 'john'\n",
    "yourage = '24'\n",
    "yourjob = 'salesman'\n",
    "print_human(yourname, yourage, yourjob)"
   ]
  }
 ],
 "metadata": {
  "kernelspec": {
   "display_name": "Python 3",
   "language": "python",
   "name": "python3"
  },
  "language_info": {
   "codemirror_mode": {
    "name": "ipython",
    "version": 3
   },
   "file_extension": ".py",
   "mimetype": "text/x-python",
   "name": "python",
   "nbconvert_exporter": "python",
   "pygments_lexer": "ipython3",
   "version": "3.7.7"
  }
 },
 "nbformat": 4,
 "nbformat_minor": 5
}
