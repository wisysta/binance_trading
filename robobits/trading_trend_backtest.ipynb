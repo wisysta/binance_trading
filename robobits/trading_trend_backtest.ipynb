{
 "cells": [
  {
   "cell_type": "code",
   "execution_count": 2,
   "id": "90fdcee4",
   "metadata": {},
   "outputs": [
    {
     "data": {
      "text/plain": [
       "Index(['t', 'o', 'h', 'l', 'c', 'v', 'sma7', 'sma14', 'sma99', 'wma7', 'wma25',\n",
       "       'wma99', 'ema7', 'ema25', 'ema99', 'macd', 'macd_s', 'macd_d', 'rsi7',\n",
       "       'rsi14', 'rsi28', 'srsi', 'srsik', 'srsid', 'bh', 'bhi', 'bl', 'bli',\n",
       "       'bm', 'bw', 'vwap'],\n",
       "      dtype='object')"
      ]
     },
     "execution_count": 2,
     "metadata": {},
     "output_type": "execute_result"
    }
   ],
   "source": [
    "import pandas as pd\n",
    "import numpy as np\n",
    "\n",
    "coin_name = \"KRW-XRP\"\n",
    "# df_org = pd.read_csv('./data/minute_index_result.csv') #예측모델\n",
    "df_org = pd.read_csv(\"./data/{}-index.csv\".format(coin_name))\n",
    "df_org.columns "
   ]
  },
  {
   "cell_type": "code",
   "execution_count": 6,
   "id": "2c0e1ffd",
   "metadata": {
    "scrolled": false
   },
   "outputs": [
    {
     "name": "stdout",
     "output_type": "stream",
     "text": [
      "*buy_amt_list:[0.0, 58.0, 92.8, 113.68, 126.208, 133.7248, 138.2349, 140.9409] max_loss:36644.6392\n",
      "*[14306] stop loss:-37074.00739980001 revenue:22503.2895 \n",
      "22503.2895\n"
     ]
    }
   ],
   "source": [
    "#단계별 구매 수량\n",
    "def get_buy_amt_list(buy_amt_unit, buy_cnt_limit, increace_rate):\n",
    "    buy_amt = 0\n",
    "    buy_amt_list = [0.0]\n",
    "    for idx in range(0, buy_cnt_limit):\n",
    "        temp_amt = buy_amt_unit + buy_amt * increace_rate\n",
    "        buy_amt = round(buy_amt + temp_amt, 4)\n",
    "        buy_amt_list.append(buy_amt)\n",
    "    return buy_amt_list\n",
    "\n",
    "#손실 최소화 실현 금액 계산\n",
    "def get_max_loss(close, buy_amt_unit, buy_cnt_limit, increace_rate, max_loss_rate):\n",
    "    buy_amt = 0\n",
    "    buy_price = 0\n",
    "    for idx in range(0, buy_cnt_limit):\n",
    "        temp_amt = buy_amt_unit + buy_amt * increace_rate\n",
    "        buy_price = round(buy_price + close * temp_amt, 4)\n",
    "        buy_amt = round(buy_amt + temp_amt, 4)\n",
    "    return round(buy_price * max_loss_rate, 4)\n",
    "\n",
    "revenue_rate = 0.014  #익절 비율\n",
    "max_loss_rate = 0.2   #손절 비율: 20%\n",
    "increace_rate = -0.4  \n",
    "buy_cnt_limit = 7   #최대 오픈 건수\n",
    "buy_amt_unit = 58     #최소 오픈 수량\n",
    "trade_fee = 0.001 #거래수수료\n",
    "close = 1300\n",
    "buy_amt_list = get_buy_amt_list(buy_amt_unit, buy_cnt_limit, increace_rate)\n",
    "max_loss = get_max_loss(close, buy_amt_unit, buy_cnt_limit, increace_rate, max_loss_rate)\n",
    "print(\"*buy_amt_list:{} max_loss:{}\".format(buy_amt_list, max_loss))\n",
    "\n",
    "buy_cnt = 0 \n",
    "buy_price = 0\n",
    "buy_amt = 0\n",
    "revenue = 0\n",
    "revenue_t = 0\n",
    "\n",
    "df = df_org.iloc[df_org.shape[0]-14400:,]\n",
    "# df = df_org2\n",
    "for i in range(0, df.shape[0]-1):\n",
    "    close1 = round(df.iloc[i:i+1,]['c'].values[0],4)\n",
    "    close2 = round(df.iloc[i+1:i+2,]['c'].values[0],4) #다음 분의 종가로 산다\n",
    "    wma25 = round(df.iloc[i:i+1,]['wma25'].values[0],4)\n",
    "    wma99 = round(df.iloc[i:i+1,]['wma99'].values[0],4)\n",
    "    vwap = round(df.iloc[i:i+1,]['vwap'].values[0],4)\n",
    "    macd_s = round(df.iloc[i:i+1,]['macd_s'].values[0],4)\n",
    "    macd_d = round(df.iloc[i:i+1,]['macd_d'].values[0],4)\n",
    "    \n",
    "    #stop loss\n",
    "    loss = buy_price - close2*buy_amt\n",
    "    if loss > max_loss:\n",
    "        revenue_t = close2*buy_amt - buy_price - buy_price * trade_fee\n",
    "        revenue = round(revenue + revenue_t,4)\n",
    "        print(\"*[{}] stop loss:{} revenue:{} \".format(i, revenue_t, revenue))        \n",
    "        buy_cnt = 0\n",
    "        buy_amt = 0\n",
    "        buy_price = 0\n",
    "        continue\n",
    "\n",
    "    #take profit\n",
    "    tp_revenue = close2*buy_amt - (buy_price + buy_price*revenue_rate)\n",
    "    if buy_cnt > 0 and tp_revenue > 0:\n",
    "        revenue_t = close2*buy_amt - buy_price - buy_price * trade_fee\n",
    "        revenue = round(revenue + revenue_t,4)\n",
    "#         print(\"*[{}] take profit:{} revenue:{} \".format(i, revenue_t, revenue))        \n",
    "        buy_cnt = 0\n",
    "        buy_amt = 0\n",
    "        buy_price = 0\n",
    "        continue\n",
    "    \n",
    "    #buy\n",
    "    if buy_cnt < buy_cnt_limit and close1 > vwap and macd_d > macd_s and wma25 > wma99: #로직컬\n",
    "        temp_amt = buy_amt_unit + buy_amt*increace_rate\n",
    "        buy_price = round(buy_price + close2*temp_amt,4)\n",
    "        buy_amt = round(buy_amt + temp_amt,4)\n",
    "        buy_cnt = buy_cnt + 1 \n",
    "    \n",
    "#     print(\"c1:{} c2:{} vwap:{} olc:{} ola:{} olp:{} loss:{} tp_revenue:{} revenue:{}\"\n",
    "#       .format(close1, close2, vwap, buy_cnt, buy_amt, buy_price, loss, tp_revenue, revenue))\n",
    "        \n",
    "        \n",
    "print(revenue)\n"
   ]
  },
  {
   "cell_type": "code",
   "execution_count": 16,
   "id": "34d8c198",
   "metadata": {},
   "outputs": [
    {
     "data": {
      "text/plain": [
       "272015.8648"
      ]
     },
     "execution_count": 16,
     "metadata": {},
     "output_type": "execute_result"
    }
   ],
   "source": [
    "272015.8648"
   ]
  },
  {
   "cell_type": "code",
   "execution_count": null,
   "id": "a65e08d5",
   "metadata": {},
   "outputs": [],
   "source": []
  }
 ],
 "metadata": {
  "kernelspec": {
   "display_name": "Python 3",
   "language": "python",
   "name": "python3"
  },
  "language_info": {
   "codemirror_mode": {
    "name": "ipython",
    "version": 3
   },
   "file_extension": ".py",
   "mimetype": "text/x-python",
   "name": "python",
   "nbconvert_exporter": "python",
   "pygments_lexer": "ipython3",
   "version": "3.7.7"
  }
 },
 "nbformat": 4,
 "nbformat_minor": 5
}
