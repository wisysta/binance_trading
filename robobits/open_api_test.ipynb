{
 "cells": [
  {
   "cell_type": "code",
   "execution_count": 1,
   "id": "7cfbbc7c",
   "metadata": {},
   "outputs": [],
   "source": [
    "#pip install pyupbit\n",
    "import pyupbit\n",
    "import comm.config as conf\n",
    "\n",
    "access = conf.G_API_KEY \n",
    "secret = conf.G_SECRET_KEY \n",
    "coin_name = 'KRW-XRP'\n",
    "up = pyupbit.Upbit(access, secret)"
   ]
  },
  {
   "cell_type": "code",
   "execution_count": 6,
   "id": "1c914f05",
   "metadata": {},
   "outputs": [
    {
     "data": {
      "text/plain": [
       "1450.0"
      ]
     },
     "execution_count": 6,
     "metadata": {},
     "output_type": "execute_result"
    }
   ],
   "source": [
    "#현재가 조회\n",
    "pyupbit.get_current_price(coin_name)\n",
    "\n",
    "def get_current_price(up, coin_name):\n",
    "    message = ''\n",
    "    result = 'none'\n",
    "    try:\n",
    "        result = pyupbit.get_current_price(coin_name)\n",
    "    except:\n",
    "        message = \"{}\".format(sys.exc_info())\n",
    "\n",
    "    try: #error message check\n",
    "        message = result['error']['message']\n",
    "    except: #no error message -> normal state\n",
    "        if message == '':\n",
    "            message = 'good'\n",
    "\n",
    "    return message, result"
   ]
  },
  {
   "cell_type": "code",
   "execution_count": 3,
   "id": "815a792d",
   "metadata": {
    "scrolled": true
   },
   "outputs": [
    {
     "data": {
      "text/plain": [
       "[{'currency': 'KRW',\n",
       "  'balance': '84882.25388805',\n",
       "  'locked': '0.0',\n",
       "  'avg_buy_price': '0',\n",
       "  'avg_buy_price_modified': True,\n",
       "  'unit_currency': 'KRW'},\n",
       " {'currency': 'XRP',\n",
       "  'balance': '10.46020761',\n",
       "  'locked': '0.0',\n",
       "  'avg_buy_price': '1445.6305',\n",
       "  'avg_buy_price_modified': False,\n",
       "  'unit_currency': 'KRW'}]"
      ]
     },
     "execution_count": 3,
     "metadata": {},
     "output_type": "execute_result"
    }
   ],
   "source": [
    "#잔고조회\n",
    "result = up.get_balances()\n",
    "result"
   ]
  },
  {
   "cell_type": "code",
   "execution_count": 7,
   "id": "4d1b9028",
   "metadata": {},
   "outputs": [
    {
     "data": {
      "text/plain": [
       "{'uuid': 'cbb1f51a-42ad-4a86-9692-8e92e8b53fbc',\n",
       " 'side': 'ask',\n",
       " 'ord_type': 'limit',\n",
       " 'price': '1450.0',\n",
       " 'state': 'wait',\n",
       " 'market': 'KRW-XRP',\n",
       " 'created_at': '2021-08-23T16:23:30+09:00',\n",
       " 'volume': '4.0',\n",
       " 'remaining_volume': '4.0',\n",
       " 'reserved_fee': '0.0',\n",
       " 'remaining_fee': '0.0',\n",
       " 'paid_fee': '0.0',\n",
       " 'locked': '4.0',\n",
       " 'executed_volume': '0.0',\n",
       " 'trades_count': 0}"
      ]
     },
     "execution_count": 7,
     "metadata": {},
     "output_type": "execute_result"
    }
   ],
   "source": [
    "#지정가 매수&매도\n",
    "# up.buy_limit_order(coin_name, '1445', '4') #coin_name, price, amt\n",
    "up.sell_limit_order(coin_name, '1450', '4')"
   ]
  },
  {
   "cell_type": "code",
   "execution_count": 9,
   "id": "3a3cd5cc",
   "metadata": {},
   "outputs": [
    {
     "data": {
      "text/plain": [
       "{'uuid': 'a7277cba-de01-4827-a4dc-0bef09bb896d',\n",
       " 'side': 'ask',\n",
       " 'ord_type': 'market',\n",
       " 'price': None,\n",
       " 'state': 'wait',\n",
       " 'market': 'KRW-XRP',\n",
       " 'created_at': '2021-08-23T16:25:09+09:00',\n",
       " 'volume': '5.0',\n",
       " 'remaining_volume': '5.0',\n",
       " 'reserved_fee': '0.0',\n",
       " 'remaining_fee': '0.0',\n",
       " 'paid_fee': '0.0',\n",
       " 'locked': '5.0',\n",
       " 'executed_volume': '0.0',\n",
       " 'trades_count': 0}"
      ]
     },
     "execution_count": 9,
     "metadata": {},
     "output_type": "execute_result"
    }
   ],
   "source": [
    "#시장가 매수&매도\n",
    "# up.buy_market_order(coin_name, 5000) #coin_name, price\n",
    "up.sell_market_order(coin_name, 5)#coin_name, amt"
   ]
  },
  {
   "cell_type": "code",
   "execution_count": 10,
   "id": "01494216",
   "metadata": {
    "scrolled": false
   },
   "outputs": [
    {
     "data": {
      "text/plain": [
       "[{'uuid': 'cbb1f51a-42ad-4a86-9692-8e92e8b53fbc',\n",
       "  'side': 'ask',\n",
       "  'ord_type': 'limit',\n",
       "  'price': '1450.0',\n",
       "  'state': 'wait',\n",
       "  'market': 'KRW-XRP',\n",
       "  'created_at': '2021-08-23T16:23:30+09:00',\n",
       "  'volume': '4.0',\n",
       "  'remaining_volume': '4.0',\n",
       "  'reserved_fee': '0.0',\n",
       "  'remaining_fee': '0.0',\n",
       "  'paid_fee': '0.0',\n",
       "  'locked': '4.0',\n",
       "  'executed_volume': '0.0',\n",
       "  'trades_count': 0}]"
      ]
     },
     "execution_count": 10,
     "metadata": {},
     "output_type": "execute_result"
    }
   ],
   "source": [
    "#주문상태 조회 state: wait(대기), done(완료)\n",
    "up.get_order(coin_name, state='wait') "
   ]
  },
  {
   "cell_type": "code",
   "execution_count": 11,
   "id": "ff510421",
   "metadata": {},
   "outputs": [
    {
     "data": {
      "text/plain": [
       "{'uuid': 'cbb1f51a-42ad-4a86-9692-8e92e8b53fbc',\n",
       " 'side': 'ask',\n",
       " 'ord_type': 'limit',\n",
       " 'price': '1450.0',\n",
       " 'state': 'wait',\n",
       " 'market': 'KRW-XRP',\n",
       " 'created_at': '2021-08-23T16:23:30+09:00',\n",
       " 'volume': '4.0',\n",
       " 'remaining_volume': '4.0',\n",
       " 'reserved_fee': '0.0',\n",
       " 'remaining_fee': '0.0',\n",
       " 'paid_fee': '0.0',\n",
       " 'locked': '4.0',\n",
       " 'executed_volume': '0.0',\n",
       " 'trades_count': 0,\n",
       " 'trades': []}"
      ]
     },
     "execution_count": 11,
     "metadata": {},
     "output_type": "execute_result"
    }
   ],
   "source": [
    "order = up.get_order('cbb1f51a-42ad-4a86-9692-8e92e8b53fbc') #state: wait, done\n",
    "order"
   ]
  },
  {
   "cell_type": "code",
   "execution_count": 13,
   "id": "7ccb3a0c",
   "metadata": {},
   "outputs": [
    {
     "data": {
      "text/plain": [
       "{'uuid': 'cbb1f51a-42ad-4a86-9692-8e92e8b53fbc',\n",
       " 'side': 'ask',\n",
       " 'ord_type': 'limit',\n",
       " 'price': '1450.0',\n",
       " 'state': 'wait',\n",
       " 'market': 'KRW-XRP',\n",
       " 'created_at': '2021-08-23T16:23:30+09:00',\n",
       " 'volume': '4.0',\n",
       " 'remaining_volume': '4.0',\n",
       " 'reserved_fee': '0.0',\n",
       " 'remaining_fee': '0.0',\n",
       " 'paid_fee': '0.0',\n",
       " 'locked': '4.0',\n",
       " 'executed_volume': '0.0',\n",
       " 'trades_count': 0}"
      ]
     },
     "execution_count": 13,
     "metadata": {},
     "output_type": "execute_result"
    }
   ],
   "source": [
    "#취소주문\n",
    "up.cancel_order('cbb1f51a-42ad-4a86-9692-8e92e8b53fbc')"
   ]
  },
  {
   "cell_type": "code",
   "execution_count": 14,
   "id": "bca2f732",
   "metadata": {},
   "outputs": [
    {
     "data": {
      "text/plain": [
       "'9'"
      ]
     },
     "execution_count": 14,
     "metadata": {},
     "output_type": "execute_result"
    }
   ],
   "source": [
    "now_price = 9\n",
    "trade_price = \"{:0.0{}f}\".format(float(now_price), 0)  # 소수점 첫째자리\n",
    "trade_price"
   ]
  },
  {
   "cell_type": "code",
   "execution_count": null,
   "id": "3965d593",
   "metadata": {},
   "outputs": [],
   "source": []
  }
 ],
 "metadata": {
  "kernelspec": {
   "display_name": "Python 3 (ipykernel)",
   "language": "python",
   "name": "python3"
  },
  "language_info": {
   "codemirror_mode": {
    "name": "ipython",
    "version": 3
   },
   "file_extension": ".py",
   "mimetype": "text/x-python",
   "name": "python",
   "nbconvert_exporter": "python",
   "pygments_lexer": "ipython3",
   "version": "3.7.7"
  }
 },
 "nbformat": 4,
 "nbformat_minor": 5
}
