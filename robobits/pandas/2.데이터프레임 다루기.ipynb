{
 "cells": [
  {
   "cell_type": "code",
   "execution_count": 2,
   "id": "470ae5b2",
   "metadata": {
    "scrolled": false
   },
   "outputs": [
    {
     "name": "stdout",
     "output_type": "stream",
     "text": [
      "    1   2   3   4\n",
      "0  A0  A1  A2  A3\n",
      "1  B0  B1  B2  B3\n",
      "\n",
      "    1   2   3   4\n",
      "2  A4  A5  A6  A7\n",
      "3  B4  B5  B6  B7\n",
      "\n",
      "    1   2    3\n",
      "4  A8  A9  A10\n",
      "5  B8  B9  B10\n"
     ]
    }
   ],
   "source": [
    "#데이터프레임 생성\n",
    "\n",
    "import pandas as pd\n",
    "import numpy as np\n",
    "\n",
    "data1 = [\n",
    "    [\"A0\", \"A1\", \"A2\", \"A3\"],\n",
    "    [\"B0\", \"B1\", \"B2\", \"B3\"]\n",
    "]\n",
    "df1 = pd.DataFrame(data1, index=[0, 1], columns=[1,2,3,4])\n",
    "\n",
    "data2 = [\n",
    "    [\"A4\", \"A5\", \"A6\", \"A7\"],\n",
    "    [\"B4\", \"B5\", \"B6\", \"B7\"]\n",
    "]\n",
    "df2 = pd.DataFrame(data2, index=[2, 3], columns=[1,2,3,4])\n",
    "\n",
    "data3 = [\n",
    "    [\"A8\", \"A9\", \"A10\"],\n",
    "    [\"B8\", \"B9\", \"B10\"]\n",
    "]\n",
    "df3 = pd.DataFrame(data3, index=[4, 5], columns=[1,2,3])\n",
    "\n",
    "print(df1)\n",
    "print()\n",
    "print(df2)\n",
    "print()\n",
    "print(df3)"
   ]
  },
  {
   "cell_type": "code",
   "execution_count": 56,
   "id": "3d547643",
   "metadata": {
    "scrolled": false
   },
   "outputs": [
    {
     "name": "stdout",
     "output_type": "stream",
     "text": [
      "    1   2   3   4\n",
      "0  A0  A1  A2  A3\n",
      "1  B0  B1  B2  B3\n",
      "2  A4  A5  A6  A7\n",
      "3  B4  B5  B6  B7\n"
     ]
    }
   ],
   "source": [
    "#세로 축으로 결합 (1)\n",
    "df4 = pd.concat([df1,df2 ], axis=0)\n",
    "print(df4)"
   ]
  },
  {
   "cell_type": "code",
   "execution_count": 62,
   "id": "6baad8cc",
   "metadata": {
    "scrolled": true
   },
   "outputs": [
    {
     "name": "stdout",
     "output_type": "stream",
     "text": [
      "    1   2    3    4\n",
      "0  A0  A1   A2   A3\n",
      "1  B0  B1   B2   B3\n",
      "4  A8  A9  A10  NaN\n",
      "5  B8  B9  B10  NaN\n"
     ]
    }
   ],
   "source": [
    "#세로 축으로 결합 (2)\n",
    "df5 = pd.concat([df1,df3 ], axis=0)\n",
    "print(df5)"
   ]
  },
  {
   "cell_type": "code",
   "execution_count": 57,
   "id": "16c467d8",
   "metadata": {
    "scrolled": true
   },
   "outputs": [
    {
     "name": "stdout",
     "output_type": "stream",
     "text": [
      "     1    2    3    4    1    2    3    4\n",
      "0   A0   A1   A2   A3  NaN  NaN  NaN  NaN\n",
      "1   B0   B1   B2   B3  NaN  NaN  NaN  NaN\n",
      "2  NaN  NaN  NaN  NaN   A4   A5   A6   A7\n",
      "3  NaN  NaN  NaN  NaN   B4   B5   B6   B7\n"
     ]
    }
   ],
   "source": [
    "#가로 축으로 결합 (1)\n",
    "df6 = pd.concat([df1,df2 ], axis=1)\n",
    "print(df6)"
   ]
  },
  {
   "cell_type": "code",
   "execution_count": 60,
   "id": "cce56fb3",
   "metadata": {
    "scrolled": true
   },
   "outputs": [
    {
     "name": "stdout",
     "output_type": "stream",
     "text": [
      "    1   2   3   4\n",
      "0  A0  A1  A2  A3\n",
      "1  B0  B1  B2  B3\n",
      "\n",
      "    1   2   3   4\n",
      "0  A4  A5  A6  A7\n",
      "1  B4  B5  B6  B7\n",
      "\n",
      "    1   2   3   4   1   2   3   4\n",
      "0  A0  A1  A2  A3  A4  A5  A6  A7\n",
      "1  B0  B1  B2  B3  B4  B5  B6  B7\n"
     ]
    }
   ],
   "source": [
    "#가로 축으로 결합 (2)\n",
    "df1 = df1.reset_index(drop=True)\n",
    "df2 = df2.reset_index(drop=True)\n",
    "print(df1)\n",
    "print()\n",
    "print(df2)\n",
    "print()\n",
    "df7 = pd.concat([df1,df2 ], axis=1)\n",
    "print(df7)"
   ]
  },
  {
   "cell_type": "code",
   "execution_count": 10,
   "id": "66fe9044",
   "metadata": {
    "scrolled": false
   },
   "outputs": [
    {
     "name": "stdout",
     "output_type": "stream",
     "text": [
      "  key   a   b\n",
      "0  K0  A0  B0\n",
      "1  K1  A1  B1\n",
      "2  K2  A2  B2\n",
      "3  K3  A3  B3\n",
      "4  K4  A4  B4\n",
      "\n",
      "  key   c   d\n",
      "0  K0  C0  D0\n",
      "1  K1  C1  D1\n",
      "2  K2  C2  D2\n",
      "3  K3  C3  D3\n"
     ]
    }
   ],
   "source": [
    "#병합 테스트 데이터 생성\n",
    "data1 =  [\n",
    "  [\"K0\", \"A0\", \"B0\"], \n",
    "  [\"K1\", \"A1\", \"B1\"], \n",
    "  [\"K2\", \"A2\", \"B2\"], \n",
    "  [\"K3\", \"A3\", \"B3\"],\n",
    "  [\"K4\", \"A4\", \"B4\"] #<<<< K4: data1에만 존재하는 키\n",
    "] \n",
    "\n",
    "df1 = pd.DataFrame(data1, columns=[\"key\", \"a\", \"b\"])\n",
    "\n",
    "data2 =  [\n",
    "  [\"K0\", \"C0\", \"D0\"], \n",
    "  [\"K1\", \"C1\", \"D1\"], \n",
    "  [\"K2\", \"C2\", \"D2\"], \n",
    "  [\"K3\", \"C3\", \"D3\"]\n",
    "] \n",
    "df2 = pd.DataFrame(data2, columns=[\"key\", \"c\", \"d\"])\n",
    "print(df1)\n",
    "print()\n",
    "print(df2)"
   ]
  },
  {
   "cell_type": "code",
   "execution_count": 15,
   "id": "1431da8e",
   "metadata": {},
   "outputs": [
    {
     "name": "stdout",
     "output_type": "stream",
     "text": [
      "  key   a   b   c   d\n",
      "0  K0  A0  B0  C0  D0\n",
      "1  K1  A1  B1  C1  D1\n",
      "2  K2  A2  B2  C2  D2\n",
      "3  K3  A3  B3  C3  D3\n"
     ]
    }
   ],
   "source": [
    "#병합 inner\n",
    "result1 = pd.merge(df1, df2, on=\"key\")\n",
    "print(result1)"
   ]
  },
  {
   "cell_type": "code",
   "execution_count": 19,
   "id": "0fad8759",
   "metadata": {},
   "outputs": [
    {
     "name": "stdout",
     "output_type": "stream",
     "text": [
      "  key   a   b    c    d\n",
      "0  K0  A0  B0   C0   D0\n",
      "1  K1  A1  B1   C1   D1\n",
      "2  K2  A2  B2   C2   D2\n",
      "3  K3  A3  B3   C3   D3\n",
      "4  K4  A4  B4  NaN  NaN\n"
     ]
    }
   ],
   "source": [
    "#병합 outer\n",
    "result = pd.merge(df1, df2, how=\"outer\", on=\"key\")\n",
    "print(result)"
   ]
  },
  {
   "cell_type": "code",
   "execution_count": null,
   "id": "59cd7de0",
   "metadata": {},
   "outputs": [],
   "source": []
  }
 ],
 "metadata": {
  "kernelspec": {
   "display_name": "Python 3",
   "language": "python",
   "name": "python3"
  },
  "language_info": {
   "codemirror_mode": {
    "name": "ipython",
    "version": 3
   },
   "file_extension": ".py",
   "mimetype": "text/x-python",
   "name": "python",
   "nbconvert_exporter": "python",
   "pygments_lexer": "ipython3",
   "version": "3.7.7"
  }
 },
 "nbformat": 4,
 "nbformat_minor": 5
}
