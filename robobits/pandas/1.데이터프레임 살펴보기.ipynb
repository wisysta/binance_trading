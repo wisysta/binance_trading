{
 "cells": [
  {
   "cell_type": "code",
   "execution_count": 5,
   "id": "7cb2600e",
   "metadata": {},
   "outputs": [
    {
     "name": "stdout",
     "output_type": "stream",
     "text": [
      "0      1\n",
      "1      3\n",
      "2      5\n",
      "3    NaN\n",
      "4      a\n",
      "5      b\n",
      "dtype: object\n"
     ]
    }
   ],
   "source": [
    "#시리즈 객체 생성\n",
    "\n",
    "import pandas as pd\n",
    "import numpy as np\n",
    "\n",
    "s = pd.Series([1, 3, 5, np.nan, \"a\", \"b\"])\n",
    "print(s)"
   ]
  },
  {
   "cell_type": "code",
   "execution_count": 3,
   "id": "f86f13fb",
   "metadata": {},
   "outputs": [
    {
     "data": {
      "text/plain": [
       "idx1      1\n",
       "idx2      3\n",
       "idx3      5\n",
       "idx4    NaN\n",
       "idx5      a\n",
       "idx6      b\n",
       "dtype: object"
      ]
     },
     "execution_count": 3,
     "metadata": {},
     "output_type": "execute_result"
    }
   ],
   "source": [
    "#시리즈 인덱스 생성\n",
    "\n",
    "s = pd.Series([1, 3, 5, np.nan, \"a\", \"b\"], index=[\"idx1\", \"idx2\", \"idx3\", \"idx4\", \"idx5\", \"idx6\"])\n",
    "print(s)"
   ]
  },
  {
   "cell_type": "code",
   "execution_count": 7,
   "id": "6fa66902",
   "metadata": {},
   "outputs": [
    {
     "name": "stdout",
     "output_type": "stream",
     "text": [
      "      col1  col2  col3  col4 col5 col6\n",
      "idx1     1     3     5   NaN    a    b\n",
      "idx2     2     6    10   NaN    c    d\n"
     ]
    }
   ],
   "source": [
    "#데이터프레임 객체 생성\n",
    "\n",
    "data = [[1, 3, 5, np.nan, \"a\", \"b\"],\n",
    "        [2, 6, 10, np.nan, \"c\", \"d\"]\n",
    "       ]\n",
    "s = pd.DataFrame(data, index=[\"idx1\", \"idx2\"], \n",
    "                 columns=[\"col1\",\"col2\",\"col3\",\"col4\",\"col5\",\"col6\"])\n",
    "print(s)"
   ]
  },
  {
   "cell_type": "code",
   "execution_count": 22,
   "id": "fd03f915",
   "metadata": {},
   "outputs": [
    {
     "name": "stdout",
     "output_type": "stream",
     "text": [
      "          a         b         c         d\n",
      "0 -0.215922  0.455111 -0.530524  0.021403\n",
      "1  0.534050 -0.667067  0.159804 -0.067282\n",
      "2 -0.716618 -0.459836 -0.101399  1.231672\n",
      "3 -0.576396  0.372282 -1.046041 -0.879706\n",
      "4  0.013992 -0.589391 -0.380709 -0.653881\n",
      "5  0.812316 -0.798568 -0.280634 -0.017964\n",
      "\n",
      "0   -0.215922\n",
      "1    0.534050\n",
      "2   -0.716618\n",
      "3   -0.576396\n",
      "4    0.013992\n",
      "5    0.812316\n",
      "Name: a, dtype: float64\n"
     ]
    }
   ],
   "source": [
    "#컬럼 및 인덱스선택\n",
    "\n",
    "idx = np.array(range(6))\n",
    "df = pd.DataFrame(np.random.randn(6, 4), index=idx, columns=[\"a\",\"b\",\"c\",\"d\"])\n",
    "print(df)\n",
    "print()\n",
    "print(df['a'])"
   ]
  },
  {
   "cell_type": "code",
   "execution_count": 32,
   "id": "0644d001",
   "metadata": {},
   "outputs": [
    {
     "name": "stdout",
     "output_type": "stream",
     "text": [
      "          a         b         c         d\n",
      "0  0.713359  0.982270 -1.701803 -0.591221\n",
      "1 -0.862482  0.432335  0.159694 -0.847623\n",
      "2 -0.108942  1.671552  0.051238 -0.817856\n",
      "3  0.632424 -0.811225 -0.012059  0.990477\n",
      "4  1.587407  0.356856  0.431181 -1.056767\n",
      "5  0.556012  0.311385  0.271444  0.602204\n",
      "(6, 4)\n"
     ]
    }
   ],
   "source": [
    "#데이터프레임 모양 확인\n",
    "\n",
    "idx = np.array(range(6))\n",
    "df = pd.DataFrame(np.random.randn(6, 4), columns=[\"a\",\"b\",\"c\",\"d\"])\n",
    "print(df)\n",
    "print(df.shape)"
   ]
  },
  {
   "cell_type": "code",
   "execution_count": 23,
   "id": "080d5899",
   "metadata": {},
   "outputs": [
    {
     "data": {
      "text/html": [
       "<div>\n",
       "<style scoped>\n",
       "    .dataframe tbody tr th:only-of-type {\n",
       "        vertical-align: middle;\n",
       "    }\n",
       "\n",
       "    .dataframe tbody tr th {\n",
       "        vertical-align: top;\n",
       "    }\n",
       "\n",
       "    .dataframe thead th {\n",
       "        text-align: right;\n",
       "    }\n",
       "</style>\n",
       "<table border=\"1\" class=\"dataframe\">\n",
       "  <thead>\n",
       "    <tr style=\"text-align: right;\">\n",
       "      <th></th>\n",
       "      <th>a</th>\n",
       "      <th>b</th>\n",
       "      <th>c</th>\n",
       "      <th>d</th>\n",
       "    </tr>\n",
       "  </thead>\n",
       "  <tbody>\n",
       "    <tr>\n",
       "      <th>count</th>\n",
       "      <td>6.000000</td>\n",
       "      <td>6.000000</td>\n",
       "      <td>6.000000</td>\n",
       "      <td>6.000000</td>\n",
       "    </tr>\n",
       "    <tr>\n",
       "      <th>mean</th>\n",
       "      <td>0.109418</td>\n",
       "      <td>-0.001519</td>\n",
       "      <td>-0.105304</td>\n",
       "      <td>-0.742033</td>\n",
       "    </tr>\n",
       "    <tr>\n",
       "      <th>std</th>\n",
       "      <td>0.715431</td>\n",
       "      <td>0.745361</td>\n",
       "      <td>0.948996</td>\n",
       "      <td>0.706721</td>\n",
       "    </tr>\n",
       "    <tr>\n",
       "      <th>min</th>\n",
       "      <td>-0.858905</td>\n",
       "      <td>-0.691998</td>\n",
       "      <td>-1.142988</td>\n",
       "      <td>-1.720904</td>\n",
       "    </tr>\n",
       "    <tr>\n",
       "      <th>25%</th>\n",
       "      <td>-0.317305</td>\n",
       "      <td>-0.637599</td>\n",
       "      <td>-0.545678</td>\n",
       "      <td>-1.187561</td>\n",
       "    </tr>\n",
       "    <tr>\n",
       "      <th>50%</th>\n",
       "      <td>0.156358</td>\n",
       "      <td>-0.102602</td>\n",
       "      <td>-0.255039</td>\n",
       "      <td>-0.758813</td>\n",
       "    </tr>\n",
       "    <tr>\n",
       "      <th>75%</th>\n",
       "      <td>0.402199</td>\n",
       "      <td>0.397842</td>\n",
       "      <td>-0.052464</td>\n",
       "      <td>-0.140711</td>\n",
       "    </tr>\n",
       "    <tr>\n",
       "      <th>max</th>\n",
       "      <td>1.193743</td>\n",
       "      <td>1.139364</td>\n",
       "      <td>1.648741</td>\n",
       "      <td>0.051489</td>\n",
       "    </tr>\n",
       "  </tbody>\n",
       "</table>\n",
       "</div>"
      ],
      "text/plain": [
       "              a         b         c         d\n",
       "count  6.000000  6.000000  6.000000  6.000000\n",
       "mean   0.109418 -0.001519 -0.105304 -0.742033\n",
       "std    0.715431  0.745361  0.948996  0.706721\n",
       "min   -0.858905 -0.691998 -1.142988 -1.720904\n",
       "25%   -0.317305 -0.637599 -0.545678 -1.187561\n",
       "50%    0.156358 -0.102602 -0.255039 -0.758813\n",
       "75%    0.402199  0.397842 -0.052464 -0.140711\n",
       "max    1.193743  1.139364  1.648741  0.051489"
      ]
     },
     "execution_count": 23,
     "metadata": {},
     "output_type": "execute_result"
    }
   ],
   "source": [
    "#통계정보 보기\n",
    "\n",
    "idx = np.array(range(6))\n",
    "df = pd.DataFrame(np.random.randn(6, 4), index=idx, columns=[\"a\",\"b\",\"c\",\"d\"])\n",
    "df.describe()"
   ]
  },
  {
   "cell_type": "code",
   "execution_count": 30,
   "id": "8a3e759f",
   "metadata": {},
   "outputs": [
    {
     "name": "stdout",
     "output_type": "stream",
     "text": [
      "<class 'pandas.core.frame.DataFrame'>\n",
      "RangeIndex: 6 entries, 0 to 5\n",
      "Data columns (total 4 columns):\n",
      " #   Column  Non-Null Count  Dtype  \n",
      "---  ------  --------------  -----  \n",
      " 0   a       6 non-null      float64\n",
      " 1   b       6 non-null      float64\n",
      " 2   c       6 non-null      float64\n",
      " 3   d       6 non-null      float64\n",
      "dtypes: float64(4)\n",
      "memory usage: 320.0 bytes\n"
     ]
    }
   ],
   "source": [
    "#일반정보 보기\n",
    "\n",
    "df = pd.DataFrame(np.random.randn(6, 4), columns=[\"a\",\"b\",\"c\",\"d\"])\n",
    "df.info()"
   ]
  },
  {
   "cell_type": "code",
   "execution_count": 26,
   "id": "aedac54f",
   "metadata": {},
   "outputs": [
    {
     "name": "stdout",
     "output_type": "stream",
     "text": [
      "            a         b         c         d\n",
      "0   -0.709418  0.397119 -0.383441 -1.622081\n",
      "1   -0.564629 -1.211506 -1.175069  0.716943\n",
      "2   -2.055401  1.124819 -1.856731  1.696683\n",
      "3   -0.994346 -0.488968 -0.142444 -0.130560\n",
      "4    0.242298  0.720844 -2.672846 -1.509635\n",
      "..        ...       ...       ...       ...\n",
      "195  0.463346  0.912403 -0.793765 -0.579772\n",
      "196 -0.640912  0.524687  0.757707 -1.576958\n",
      "197  0.317320  2.243333  1.146976  0.503231\n",
      "198  0.443343  0.562928  0.630852 -1.097604\n",
      "199 -1.290146 -0.959566  0.405607 -2.220004\n",
      "\n",
      "[200 rows x 4 columns]\n"
     ]
    }
   ],
   "source": [
    "#데이터프레임 전체 데이터 \n",
    "\n",
    "df = pd.DataFrame(np.random.randn(200, 4), columns=[\"a\",\"b\",\"c\",\"d\"])\n",
    "print(df)"
   ]
  },
  {
   "cell_type": "code",
   "execution_count": 28,
   "id": "dba8ca64",
   "metadata": {},
   "outputs": [
    {
     "name": "stdout",
     "output_type": "stream",
     "text": [
      "          a         b         c         d\n",
      "0  0.523974  0.752191  0.132852 -0.967195\n",
      "1 -1.236502  0.067536 -0.251912 -0.281397\n",
      "2 -0.452141 -0.920874  1.117456  0.403201\n",
      "3  0.513522  1.007877 -1.219299 -0.589433\n",
      "4  1.153857  0.527106  2.218644  0.340974\n",
      "5  1.292186 -0.395556  2.013172  0.138906\n",
      "6  0.879741 -0.907632 -0.652471  0.680190\n",
      "7  1.024243  0.015851  0.334909 -1.028323\n",
      "8  0.091272  1.139247  1.075726 -0.168759\n",
      "9  0.131048  1.383980 -0.499053  1.110596\n",
      "            a         b         c         d\n",
      "190 -0.049971 -1.275513 -0.371615 -0.592913\n",
      "191  0.485169  1.121597 -1.035933  0.270875\n",
      "192  0.911126 -0.038962  1.123417  1.455528\n",
      "193 -0.058267  0.670622  1.465979  0.683924\n",
      "194  1.286465  1.092097  0.061492  0.347582\n",
      "195 -0.994675 -0.025787  1.165725  1.675531\n",
      "196  1.071496 -0.771219 -0.414712  1.413021\n",
      "197 -1.603017 -0.050193 -0.063699 -0.028119\n",
      "198  1.119725 -1.215538 -0.908641  1.402113\n",
      "199  2.603305  0.273340  0.906403  0.978775\n"
     ]
    }
   ],
   "source": [
    "#데이터프레임 head & tail\n",
    "\n",
    "df = pd.DataFrame(np.random.randn(200, 4), columns=[\"a\",\"b\",\"c\",\"d\"])\n",
    "print(df.head(10))\n",
    "print(df.tail(10))"
   ]
  },
  {
   "cell_type": "code",
   "execution_count": null,
   "id": "f8bda592",
   "metadata": {},
   "outputs": [],
   "source": []
  }
 ],
 "metadata": {
  "kernelspec": {
   "display_name": "Python 3",
   "language": "python",
   "name": "python3"
  },
  "language_info": {
   "codemirror_mode": {
    "name": "ipython",
    "version": 3
   },
   "file_extension": ".py",
   "mimetype": "text/x-python",
   "name": "python",
   "nbconvert_exporter": "python",
   "pygments_lexer": "ipython3",
   "version": "3.7.7"
  }
 },
 "nbformat": 4,
 "nbformat_minor": 5
}
