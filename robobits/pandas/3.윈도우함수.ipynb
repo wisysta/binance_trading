{
 "cells": [
  {
   "cell_type": "code",
   "execution_count": 68,
   "metadata": {},
   "outputs": [
    {
     "name": "stdout",
     "output_type": "stream",
     "text": [
      "          a         b         c\n",
      "0  0.439237  0.764586  1.229370\n",
      "1 -0.001641 -1.551224 -0.178748\n",
      "2  0.758294 -0.859012 -2.208460\n",
      "3 -1.294414 -0.798342 -0.245509\n",
      "4 -0.017306 -1.281449  0.506959\n",
      "5 -1.246770 -0.284094 -1.523160\n",
      "6  0.324027  0.954783 -1.121027\n",
      "7 -0.800381 -1.186677  0.435496\n",
      "8 -0.850025 -1.302271  0.172551\n",
      "9 -0.207681  0.283106  0.725189\n",
      "\n",
      "          a         b         c     a_sum    a_mean     a_max     a_min\n",
      "0  0.439237  0.764586  1.229370       NaN  0.439237  0.439237  0.439237\n",
      "1 -0.001641 -1.551224 -0.178748       NaN  0.218798  0.439237 -0.001641\n",
      "2  0.758294 -0.859012 -2.208460       NaN  0.398630  0.758294 -0.001641\n",
      "3 -1.294414 -0.798342 -0.245509       NaN -0.024631  0.758294 -1.294414\n",
      "4 -0.017306 -1.281449  0.506959 -0.115831 -0.023166  0.758294 -1.294414\n",
      "5 -1.246770 -0.284094 -1.523160 -1.801838 -0.360368  0.758294 -1.294414\n",
      "6  0.324027  0.954783 -1.121027 -1.476170 -0.295234  0.758294 -1.294414\n",
      "7 -0.800381 -1.186677  0.435496 -3.034844 -0.606969  0.324027 -1.294414\n",
      "8 -0.850025 -1.302271  0.172551 -2.590454 -0.518091  0.324027 -1.246770\n",
      "9 -0.207681  0.283106  0.725189 -2.780830 -0.556166  0.324027 -1.246770\n"
     ]
    }
   ],
   "source": [
    "#윈도우 함수\n",
    "df = pd.DataFrame(np.random.randn(10, 3), columns=[\"a\",\"b\",\"c\"])\n",
    "print(df)\n",
    "print()\n",
    "df[\"a_sum\"] = df[\"a\"].rolling(window=5).sum() #합계\n",
    "df[\"a_mean\"] = df[\"a\"].rolling(window=5, min_periods=1).mean() #평균\n",
    "df[\"a_max\"] = df[\"a\"].rolling(window=5, min_periods=1).max() #최대값\n",
    "df[\"a_min\"] = df[\"a\"].rolling(window=5, min_periods=1).min() #최소값\n",
    "print(df)"
   ]
  },
  {
   "cell_type": "code",
   "execution_count": 8,
   "metadata": {},
   "outputs": [
    {
     "data": {
      "text/html": [
       "<div>\n",
       "<style scoped>\n",
       "    .dataframe tbody tr th:only-of-type {\n",
       "        vertical-align: middle;\n",
       "    }\n",
       "\n",
       "    .dataframe tbody tr th {\n",
       "        vertical-align: top;\n",
       "    }\n",
       "\n",
       "    .dataframe thead th {\n",
       "        text-align: right;\n",
       "    }\n",
       "</style>\n",
       "<table border=\"1\" class=\"dataframe\">\n",
       "  <thead>\n",
       "    <tr style=\"text-align: right;\">\n",
       "      <th></th>\n",
       "      <th>a</th>\n",
       "      <th>b</th>\n",
       "      <th>c</th>\n",
       "      <th>d</th>\n",
       "    </tr>\n",
       "  </thead>\n",
       "  <tbody>\n",
       "    <tr>\n",
       "      <th>2021-01-01</th>\n",
       "      <td>-0.237844</td>\n",
       "      <td>0.914934</td>\n",
       "      <td>-0.157183</td>\n",
       "      <td>0.193298</td>\n",
       "    </tr>\n",
       "    <tr>\n",
       "      <th>2021-01-02</th>\n",
       "      <td>0.471491</td>\n",
       "      <td>0.896703</td>\n",
       "      <td>0.347283</td>\n",
       "      <td>1.706911</td>\n",
       "    </tr>\n",
       "    <tr>\n",
       "      <th>2021-01-03</th>\n",
       "      <td>-0.686185</td>\n",
       "      <td>0.165602</td>\n",
       "      <td>0.529286</td>\n",
       "      <td>-0.483096</td>\n",
       "    </tr>\n",
       "    <tr>\n",
       "      <th>2021-01-04</th>\n",
       "      <td>0.180240</td>\n",
       "      <td>0.012499</td>\n",
       "      <td>-0.358481</td>\n",
       "      <td>0.352222</td>\n",
       "    </tr>\n",
       "    <tr>\n",
       "      <th>2021-01-05</th>\n",
       "      <td>-0.179768</td>\n",
       "      <td>1.399807</td>\n",
       "      <td>0.872091</td>\n",
       "      <td>-1.119917</td>\n",
       "    </tr>\n",
       "  </tbody>\n",
       "</table>\n",
       "</div>"
      ],
      "text/plain": [
       "                   a         b         c         d\n",
       "2021-01-01 -0.237844  0.914934 -0.157183  0.193298\n",
       "2021-01-02  0.471491  0.896703  0.347283  1.706911\n",
       "2021-01-03 -0.686185  0.165602  0.529286 -0.483096\n",
       "2021-01-04  0.180240  0.012499 -0.358481  0.352222\n",
       "2021-01-05 -0.179768  1.399807  0.872091 -1.119917"
      ]
     },
     "execution_count": 8,
     "metadata": {},
     "output_type": "execute_result"
    }
   ],
   "source": []
  }
 ],
 "metadata": {
  "kernelspec": {
   "display_name": "Python 3",
   "language": "python",
   "name": "python3"
  },
  "language_info": {
   "codemirror_mode": {
    "name": "ipython",
    "version": 3
   },
   "file_extension": ".py",
   "mimetype": "text/x-python",
   "name": "python",
   "nbconvert_exporter": "python",
   "pygments_lexer": "ipython3",
   "version": "3.7.7"
  }
 },
 "nbformat": 4,
 "nbformat_minor": 4
}
